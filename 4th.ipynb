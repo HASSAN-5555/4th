{
 "cells": [
  {
   "cell_type": "markdown",
   "metadata": {},
   "source": [
    "Python List Exercises\n",
    "Chapter 3: Lists in Python"
   ]
  },
  {
   "cell_type": "markdown",
   "metadata": {},
   "source": [
    "Exercise 3-1: Names"
   ]
  },
  {
   "cell_type": "code",
   "execution_count": 34,
   "metadata": {},
   "outputs": [
    {
     "name": "stdout",
     "output_type": "stream",
     "text": [
      "Ali\n",
      "Raza\n",
      "Hassan\n",
      "Dawood\n",
      "Zaib\n"
     ]
    }
   ],
   "source": [
    "names = [\"Ali\", \"Raza\", \"Hassan\", \"Dawood\", \"Zaib\"]\n",
    "for name in names:\n",
    "    print(name)\n"
   ]
  },
  {
   "cell_type": "markdown",
   "metadata": {},
   "source": [
    "Exercise 3-2: Greetings"
   ]
  },
  {
   "cell_type": "code",
   "execution_count": 35,
   "metadata": {},
   "outputs": [
    {
     "name": "stdout",
     "output_type": "stream",
     "text": [
      "Hello, Ali! How are you today?\n",
      "Hello, Raza! How are you today?\n",
      "Hello, Hassan! How are you today?\n",
      "Hello, Dawood! How are you today?\n",
      "Hello, Zaib! How are you today?\n"
     ]
    }
   ],
   "source": [
    "names = [\"Ali\", \"Raza\", \"Hassan\", \"Dawood\", \"Zaib\"]\n",
    "for name in names:\n",
    "    print(f\"Hello, {name}! How are you today?\")"
   ]
  },
  {
   "cell_type": "markdown",
   "metadata": {},
   "source": [
    "Exercise 3-3: Your Own List"
   ]
  },
  {
   "cell_type": "code",
   "execution_count": 36,
   "metadata": {},
   "outputs": [
    {
     "name": "stdout",
     "output_type": "stream",
     "text": [
      "I would like to own a Honda car.\n",
      "I would like to own a Toyota car.\n",
      "I would like to own a BMW car.\n",
      "I would like to own a Tesla car.\n",
      "I would like to own a Ford car.\n"
     ]
    }
   ],
   "source": [
    "cars = [\"Honda\", \"Toyota\", \"BMW\", \"Tesla\", \"Ford\"]\n",
    "for car in cars:\n",
    "    print(f\"I would like to own a {car} car.\")\n"
   ]
  },
  {
   "cell_type": "markdown",
   "metadata": {},
   "source": [
    "Exercise 3-4: Guest List"
   ]
  },
  {
   "cell_type": "code",
   "execution_count": 37,
   "metadata": {},
   "outputs": [
    {
     "name": "stdout",
     "output_type": "stream",
     "text": [
      "Dear Ali, I would be honored to have you for dinner.\n",
      "Dear Raza, I would be honored to have you for dinner.\n",
      "Dear Hassan, I would be honored to have you for dinner.\n",
      "Dear Dawood, I would be honored to have you for dinner.\n",
      "Dear Zaib, I would be honored to have you for dinner.\n"
     ]
    }
   ],
   "source": [
    "guasts = [\"Ali\", \"Raza\", \"Hassan\", \"Dawood\", \"Zaib\"]\n",
    "for name in guasts:\n",
    "    print(f\"Dear {name}, I would be honored to have you for dinner.\")"
   ]
  },
  {
   "cell_type": "markdown",
   "metadata": {},
   "source": [
    "Exercise 3-5: Changing Guest List"
   ]
  },
  {
   "cell_type": "code",
   "execution_count": 38,
   "metadata": {},
   "outputs": [
    {
     "name": "stdout",
     "output_type": "stream",
     "text": [
      "Dear ali, I would be honored to have you for dinner.\n",
      "Dear shan, I would be honored to have you for dinner.\n",
      "Dear raza, I would be honored to have you for dinner.\n",
      "\n",
      "Unfortunately, shan can't make it to the dinner.\n",
      "\n",
      "Sending out a new round of invitations:\n",
      "Dear ali, I would be honored to have you for dinner.\n",
      "Dear shan, I would be honored to have you for dinner.\n",
      "Dear nomi, I would be honored to have you for dinner.\n"
     ]
    }
   ],
   "source": [
    "\n",
    "guests = [\"ali\", \"shan\", \"raza\"]\n",
    "for guest in guests:\n",
    "    print(f\"Dear {guest}, I would be honored to have you for dinner.\")\n",
    "print(\"\\nUnfortunately, shan can't make it to the dinner.\")\n",
    "guests[2] = \"nomi\"\n",
    "print(\"\\nSending out a new round of invitations:\")\n",
    "for guest in guests:\n",
    "    print(f\"Dear {guest}, I would be honored to have you for dinner.\")\n"
   ]
  },
  {
   "cell_type": "markdown",
   "metadata": {},
   "source": [
    "Exercise 3-6: More Guests"
   ]
  },
  {
   "cell_type": "code",
   "execution_count": 39,
   "metadata": {},
   "outputs": [
    {
     "name": "stdout",
     "output_type": "stream",
     "text": [
      "Dear ali, I would be honored to have you for dinner.\n",
      "Dear shan, I would be honored to have you for dinner.\n",
      "Dear raza, I would be honored to have you for dinner.\n",
      "\n",
      "Unfortunately, shan can't make it to the dinner.\n",
      "\n",
      "Sending out a new round of invitations:\n",
      "Dear ali, I would be honored to have you for dinner.\n",
      "Dear shan, I would be honored to have you for dinner.\n",
      "Dear nomi, I would be honored to have you for dinner.\n",
      "\n",
      "Good news! I found a bigger table and can invite more guests.\n",
      "\n",
      "Sending out a new round of invitations to the updated list of guests:\n",
      "Dear Nabi, I would be honored to have you for dinner.\n",
      "Dear ali, I would be honored to have you for dinner.\n",
      "Dear tariq, I would be honored to have you for dinner.\n",
      "Dear shan, I would be honored to have you for dinner.\n",
      "Dear nomi, I would be honored to have you for dinner.\n",
      "Dear laiba, I would be honored to have you for dinner.\n"
     ]
    }
   ],
   "source": [
    "guests = [\"ali\", \"shan\", \"raza\"]\n",
    "for guest in guests:\n",
    "    print(f\"Dear {guest}, I would be honored to have you for dinner.\")\n",
    "print(\"\\nUnfortunately, shan can't make it to the dinner.\")\n",
    "guests[2] = \"nomi\"\n",
    "print(\"\\nSending out a new round of invitations:\")\n",
    "for guest in guests:\n",
    "    print(f\"Dear {guest}, I would be honored to have you for dinner.\")\n",
    "print(\"\\nGood news! I found a bigger table and can invite more guests.\")\n",
    "guests.insert(0, \"Nabi\")  \n",
    "guests.insert(2, \"tariq\")  \n",
    "guests.append(\"laiba\")  \n",
    "print(\"\\nSending out a new round of invitations to the updated list of guests:\")\n",
    "for guest in guests:\n",
    "    print(f\"Dear {guest}, I would be honored to have you for dinner.\")"
   ]
  },
  {
   "cell_type": "markdown",
   "metadata": {},
   "source": [
    "Exercise 3-7: Shrinking Guest List"
   ]
  },
  {
   "cell_type": "code",
   "execution_count": 40,
   "metadata": {},
   "outputs": [
    {
     "name": "stdout",
     "output_type": "stream",
     "text": [
      "Dear ali, I would be honored to have you for dinner.\n",
      "Dear shan, I would be honored to have you for dinner.\n",
      "Dear raza, I would be honored to have you for dinner.\n",
      "\n",
      "Unfortunately, shan can't make it to the dinner.\n",
      "\n",
      "Sending out a new round of invitations:\n",
      "Dear ali, I would be honored to have you for dinner.\n",
      "Dear shan, I would be honored to have you for dinner.\n",
      "Dear nomi, I would be honored to have you for dinner.\n",
      "\n",
      "Good news! I found a bigger table and can invite more guests.\n",
      "\n",
      "Unfortunately, the new dinner table won't arrive in time, and now I can only invite two people.\n",
      "Sorry, laiba, I can't invite you to dinner.\n",
      "Sorry, nomi, I can't invite you to dinner.\n",
      "Sorry, shan, I can't invite you to dinner.\n",
      "Sorry, tariq, I can't invite you to dinner.\n",
      "Dear Nabi, you are still invited to dinner!\n",
      "Dear ali, you are still invited to dinner!\n",
      "\n",
      "The guest list is now empty: []\n"
     ]
    }
   ],
   "source": [
    "guests = [\"ali\", \"shan\", \"raza\"]\n",
    "for guest in guests:\n",
    "    print(f\"Dear {guest}, I would be honored to have you for dinner.\")\n",
    "print(\"\\nUnfortunately, shan can't make it to the dinner.\")\n",
    "guests[2] = \"nomi\"\n",
    "print(\"\\nSending out a new round of invitations:\")\n",
    "for guest in guests:\n",
    "    print(f\"Dear {guest}, I would be honored to have you for dinner.\")\n",
    "print(\"\\nGood news! I found a bigger table and can invite more guests.\")\n",
    "guests.insert(0, \"Nabi\")  \n",
    "guests.insert(2, \"tariq\")  \n",
    "guests.append(\"laiba\")  \n",
    "print(\"\\nUnfortunately, the new dinner table won't arrive in time, and now I can only invite two people.\")\n",
    "while len(guests) > 2:\n",
    "    removed_guest = guests.pop()\n",
    "    print(f\"Sorry, {removed_guest}, I can't invite you to dinner.\")\n",
    "for guest in guests:\n",
    "    print(f\"Dear {guest}, you are still invited to dinner!\")\n",
    "del guests[:]\n",
    "print(\"\\nThe guest list is now empty:\", guests)"
   ]
  },
  {
   "cell_type": "markdown",
   "metadata": {},
   "source": [
    "Exercise 3-8: Seeing the World"
   ]
  },
  {
   "cell_type": "code",
   "execution_count": 41,
   "metadata": {},
   "outputs": [
    {
     "name": "stdout",
     "output_type": "stream",
     "text": [
      "Original list:\n",
      "['Japan', 'France', 'Australia', 'Canada', 'Brazil']\n",
      "\n",
      "List in alphabetical order:\n",
      "['Australia', 'Brazil', 'Canada', 'France', 'Japan']\n",
      "\n",
      "List after sorted() (original order preserved):\n",
      "['Japan', 'France', 'Australia', 'Canada', 'Brazil']\n",
      "\n",
      "List in reverse-alphabetical order:\n",
      "['Japan', 'France', 'Canada', 'Brazil', 'Australia']\n",
      "\n",
      "List after sorted(reverse=True) (original order preserved):\n",
      "['Japan', 'France', 'Australia', 'Canada', 'Brazil']\n",
      "\n",
      "List after reverse() (order changed):\n",
      "['Brazil', 'Canada', 'Australia', 'France', 'Japan']\n",
      "\n",
      "List after reverse() again (back to original order):\n",
      "['Japan', 'France', 'Australia', 'Canada', 'Brazil']\n",
      "\n",
      "List after sort() (alphabetical order):\n",
      "['Australia', 'Brazil', 'Canada', 'France', 'Japan']\n",
      "\n",
      "List after sort(reverse=True) (reverse-alphabetical order):\n",
      "['Japan', 'France', 'Canada', 'Brazil', 'Australia']\n"
     ]
    }
   ],
   "source": [
    "places = [\"Japan\", \"France\", \"Australia\", \"Canada\", \"Brazil\"]\n",
    "print(\"Original list:\")\n",
    "print(places)\n",
    "print(\"\\nList in alphabetical order:\")\n",
    "print(sorted(places))\n",
    "print(\"\\nList after sorted() (original order preserved):\")\n",
    "print(places)\n",
    "print(\"\\nList in reverse-alphabetical order:\")\n",
    "print(sorted(places, reverse=True))\n",
    "print(\"\\nList after sorted(reverse=True) (original order preserved):\")\n",
    "print(places)\n",
    "places.reverse()\n",
    "print(\"\\nList after reverse() (order changed):\")\n",
    "print(places)\n",
    "places.reverse()\n",
    "print(\"\\nList after reverse() again (back to original order):\")\n",
    "print(places)\n",
    "places.sort()\n",
    "print(\"\\nList after sort() (alphabetical order):\")\n",
    "print(places)\n",
    "places.sort(reverse=True)\n",
    "print(\"\\nList after sort(reverse=True) (reverse-alphabetical order):\")\n",
    "print(places)\n"
   ]
  },
  {
   "cell_type": "markdown",
   "metadata": {},
   "source": [
    "Exercise 3-9: Dinner Guests"
   ]
  },
  {
   "cell_type": "code",
   "execution_count": 42,
   "metadata": {},
   "outputs": [
    {
     "name": "stdout",
     "output_type": "stream",
     "text": [
      "Dear ali, I would be honored to have you for dinner.\n",
      "Dear raza, I would be honored to have you for dinner.\n",
      "Dear faiz, I would be honored to have you for dinner.\n",
      "Dear waqar, I would be honored to have you for dinner.\n",
      "Dear nomi, I would be honored to have you for dinner.\n",
      "\n",
      "I am inviting 5 people to dinner.\n"
     ]
    }
   ],
   "source": [
    "guests = [\"ali\", \"raza\", \"faiz\", \"waqar\", \"nomi\"]\n",
    "for guest in guests:\n",
    "    print(f\"Dear {guest}, I would be honored to have you for dinner.\")\n",
    "print(f\"\\nI am inviting {len(guests)} people to dinner.\")\n"
   ]
  },
  {
   "cell_type": "markdown",
   "metadata": {},
   "source": [
    "Exercise 3-10: Every Function"
   ]
  },
  {
   "cell_type": "code",
   "execution_count": 43,
   "metadata": {},
   "outputs": [
    {
     "name": "stdout",
     "output_type": "stream",
     "text": [
      "Number of countries in the list: 6\n",
      "\n",
      "Countries in alphabetical order (using sorted()):\n",
      "['Australia', 'Brazil', 'Canada', 'France', 'India', 'Japan']\n",
      "\n",
      "Original list after sorted() (unchanged):\n",
      "['India', 'Brazil', 'Australia', 'Japan', 'Canada', 'France']\n",
      "\n",
      "List after reverse():\n",
      "['France', 'Canada', 'Japan', 'Australia', 'Brazil', 'India']\n",
      "\n",
      "List after reverse() again (back to original order):\n",
      "['India', 'Brazil', 'Australia', 'Japan', 'Canada', 'France']\n",
      "\n",
      "List after append('Italy'):\n",
      "['India', 'Brazil', 'Australia', 'Japan', 'Canada', 'France', 'Italy']\n",
      "\n",
      "List after insert(0, 'Germany'):\n",
      "['Germany', 'India', 'Brazil', 'Australia', 'Japan', 'Canada', 'France', 'Italy']\n",
      "\n",
      "Country removed using pop(): Italy\n",
      "List after pop():\n",
      "['Germany', 'India', 'Brazil', 'Australia', 'Japan', 'Canada', 'France']\n",
      "\n",
      "List after del countries[2]:\n",
      "['Germany', 'India', 'Australia', 'Japan', 'Canada', 'France']\n",
      "\n",
      "List after sort():\n",
      "['Australia', 'Canada', 'France', 'Germany', 'India', 'Japan']\n",
      "\n",
      "List after sort(reverse=True):\n",
      "['Japan', 'India', 'Germany', 'France', 'Canada', 'Australia']\n"
     ]
    }
   ],
   "source": [
    "# Creating a list of countries\n",
    "countries = [\"India\", \"Brazil\", \"Australia\", \"Japan\", \"Canada\", \"France\"]\n",
    "\n",
    "# 1. Print the number of countries in the list\n",
    "print(f\"Number of countries in the list: {len(countries)}\")\n",
    "\n",
    "# 2. Print the list in alphabetical order without modifying the original list\n",
    "print(\"\\nCountries in alphabetical order (using sorted()):\")\n",
    "print(sorted(countries))\n",
    "\n",
    "# 3. Show that the original list is still in the same order\n",
    "print(\"\\nOriginal list after sorted() (unchanged):\")\n",
    "print(countries)\n",
    "\n",
    "# 4. Reverse the order of the list\n",
    "countries.reverse()\n",
    "print(\"\\nList after reverse():\")\n",
    "print(countries)\n",
    "\n",
    "# 5. Reverse the list back to the original order\n",
    "countries.reverse()\n",
    "print(\"\\nList after reverse() again (back to original order):\")\n",
    "print(countries)\n",
    "\n",
    "# 6. Add a new country to the end of the list\n",
    "countries.append(\"Italy\")\n",
    "print(\"\\nList after append('Italy'):\")\n",
    "print(countries)\n",
    "\n",
    "# 7. Insert a country at the beginning of the list\n",
    "countries.insert(0, \"Germany\")\n",
    "print(\"\\nList after insert(0, 'Germany'):\")\n",
    "print(countries)\n",
    "\n",
    "# 8. Remove the last country using pop()\n",
    "removed_country = countries.pop()\n",
    "print(f\"\\nCountry removed using pop(): {removed_country}\")\n",
    "print(\"List after pop():\")\n",
    "print(countries)\n",
    "\n",
    "# 9. Delete a country at a specific position (e.g., index 2)\n",
    "del countries[2]\n",
    "print(\"\\nList after del countries[2]:\")\n",
    "print(countries)\n",
    "\n",
    "# 10. Sort the list alphabetically\n",
    "countries.sort()\n",
    "print(\"\\nList after sort():\")\n",
    "print(countries)\n",
    "\n",
    "# 11. Sort the list in reverse-alphabetical order\n",
    "countries.sort(reverse=True)\n",
    "print(\"\\nList after sort(reverse=True):\")\n",
    "print(countries)\n"
   ]
  },
  {
   "cell_type": "markdown",
   "metadata": {},
   "source": [
    "Exercise 3-11: Intentional Error"
   ]
  },
  {
   "cell_type": "code",
   "execution_count": 44,
   "metadata": {},
   "outputs": [
    {
     "ename": "IndexError",
     "evalue": "list index out of range",
     "output_type": "error",
     "traceback": [
      "\u001b[1;31m---------------------------------------------------------------------------\u001b[0m",
      "\u001b[1;31mIndexError\u001b[0m                                Traceback (most recent call last)",
      "Cell \u001b[1;32mIn[44], line 2\u001b[0m\n\u001b[0;32m      1\u001b[0m countries \u001b[38;5;241m=\u001b[39m [\u001b[38;5;124m\"\u001b[39m\u001b[38;5;124mIndia\u001b[39m\u001b[38;5;124m\"\u001b[39m, \u001b[38;5;124m\"\u001b[39m\u001b[38;5;124mBrazil\u001b[39m\u001b[38;5;124m\"\u001b[39m, \u001b[38;5;124m\"\u001b[39m\u001b[38;5;124mAustralia\u001b[39m\u001b[38;5;124m\"\u001b[39m, \u001b[38;5;124m\"\u001b[39m\u001b[38;5;124mJapan\u001b[39m\u001b[38;5;124m\"\u001b[39m, \u001b[38;5;124m\"\u001b[39m\u001b[38;5;124mCanada\u001b[39m\u001b[38;5;124m\"\u001b[39m, \u001b[38;5;124m\"\u001b[39m\u001b[38;5;124mFrance\u001b[39m\u001b[38;5;124m\"\u001b[39m]\n\u001b[1;32m----> 2\u001b[0m \u001b[38;5;28mprint\u001b[39m(\u001b[43mcountries\u001b[49m\u001b[43m[\u001b[49m\u001b[38;5;241;43m10\u001b[39;49m\u001b[43m]\u001b[49m)  \n\u001b[0;32m      3\u001b[0m \u001b[38;5;28mprint\u001b[39m(countries[\u001b[38;5;241m5\u001b[39m]) \n",
      "\u001b[1;31mIndexError\u001b[0m: list index out of range"
     ]
    }
   ],
   "source": [
    "countries = [\"India\", \"Brazil\", \"Australia\", \"Japan\", \"Canada\", \"France\"]\n",
    "print(countries[10])  \n",
    "print(countries[5]) \n"
   ]
  }
 ],
 "metadata": {
  "kernelspec": {
   "display_name": "Python 3",
   "language": "python",
   "name": "python3"
  },
  "language_info": {
   "codemirror_mode": {
    "name": "ipython",
    "version": 3
   },
   "file_extension": ".py",
   "mimetype": "text/x-python",
   "name": "python",
   "nbconvert_exporter": "python",
   "pygments_lexer": "ipython3",
   "version": "3.13.1"
  }
 },
 "nbformat": 4,
 "nbformat_minor": 2
}
